{
 "cells": [
  {
   "cell_type": "code",
   "execution_count": 1,
   "id": "c58a5c9d",
   "metadata": {},
   "outputs": [],
   "source": [
    "num_days_till_me = 5"
   ]
  },
  {
   "cell_type": "code",
   "execution_count": 8,
   "id": "dfb4e0cc",
   "metadata": {},
   "outputs": [
    {
     "data": {
      "text/html": [
       "<style>.container { width:100% !important; } </style>"
      ],
      "text/plain": [
       "<IPython.core.display.HTML object>"
      ]
     },
     "metadata": {},
     "output_type": "display_data"
    },
    {
     "data": {
      "application/javascript": [
       "\n",
       "        IPython.OutputArea.prototype._should_scroll = function(lines) {\n",
       "            return false;\n",
       "        }\n",
       "    "
      ],
      "text/plain": [
       "<IPython.core.display.Javascript object>"
      ]
     },
     "metadata": {},
     "output_type": "display_data"
    }
   ],
   "source": [
    "import gmbp_common.utils.notebook_utils as nbu\n",
    "nbu.set_width_global()\n",
    "nbu.disable_auto_scroll()\n",
    "\n",
    "from gmbp_quant.apps.month_end.run_month_end_qqq_vs_iwm import infer_dates, infer_me_signals\n",
    "\n",
    "import pandas as pd\n",
    "pd.options.display.float_format = '{:,.2f}'.format\n",
    "\n",
    "from gmbp_common.logger import LOG\n",
    "LOG.set_level('WARN')\n",
    "\n",
    "import warnings\n",
    "warnings.simplefilter(action='ignore', category=FutureWarning)\n",
    "\n",
    "from IPython.display import display, Markdown"
   ]
  },
  {
   "cell_type": "code",
   "execution_count": 6,
   "id": "2ab5113e",
   "metadata": {},
   "outputs": [],
   "source": [
    "dateid, start_dateid, month_end_dateid = infer_dates(num_days_till_me)\n",
    "\n",
    "if dateid <= start_dateid:\n",
    "    logger.warn(f'Skipping since today({dateid})<=start_date({start_dateid}), far from month_end({month_end_dateid}) !')\n",
    "#"
   ]
  },
  {
   "cell_type": "code",
   "execution_count": null,
   "id": "b96d8af3",
   "metadata": {},
   "outputs": [],
   "source": [
    "display(Markdown(f'### Month End Signals - QQQ vs IWM for {int(month_end_dateid/100)}'))"
   ]
  },
  {
   "cell_type": "code",
   "execution_count": 7,
   "id": "cb0cd144",
   "metadata": {},
   "outputs": [
    {
     "data": {
      "text/html": [
       "<div>\n",
       "<style scoped>\n",
       "    .dataframe tbody tr th:only-of-type {\n",
       "        vertical-align: middle;\n",
       "    }\n",
       "\n",
       "    .dataframe tbody tr th {\n",
       "        vertical-align: top;\n",
       "    }\n",
       "\n",
       "    .dataframe thead th {\n",
       "        text-align: right;\n",
       "    }\n",
       "</style>\n",
       "<table border=\"1\" class=\"dataframe\">\n",
       "  <thead>\n",
       "    <tr style=\"text-align: right;\">\n",
       "      <th></th>\n",
       "      <th>AdjClose.QQQ</th>\n",
       "      <th>Return.QQQ%</th>\n",
       "      <th>AdjClose.IWM</th>\n",
       "      <th>Return.IWM%</th>\n",
       "      <th>Return.{QQQ-IWM}%</th>\n",
       "      <th>D(Return.{QQQ-IWM})%</th>\n",
       "      <th>IWMStrongerPTD</th>\n",
       "      <th>Signal</th>\n",
       "      <th>DaysTillME</th>\n",
       "    </tr>\n",
       "  </thead>\n",
       "  <tbody>\n",
       "    <tr>\n",
       "      <th>2021-08-20</th>\n",
       "      <td>367.73</td>\n",
       "      <td></td>\n",
       "      <td>215.52</td>\n",
       "      <td></td>\n",
       "      <td></td>\n",
       "      <td></td>\n",
       "      <td>True</td>\n",
       "      <td>False</td>\n",
       "      <td>-7</td>\n",
       "    </tr>\n",
       "    <tr>\n",
       "      <th>2021-08-23</th>\n",
       "      <td>373.23</td>\n",
       "      <td>1.50</td>\n",
       "      <td>219.62</td>\n",
       "      <td>1.90</td>\n",
       "      <td>-0.41</td>\n",
       "      <td></td>\n",
       "      <td>False</td>\n",
       "      <td>False</td>\n",
       "      <td>-6</td>\n",
       "    </tr>\n",
       "    <tr>\n",
       "      <th>2021-08-24</th>\n",
       "      <td>374.37</td>\n",
       "      <td>0.31</td>\n",
       "      <td>221.78</td>\n",
       "      <td>0.98</td>\n",
       "      <td>-0.68</td>\n",
       "      <td>-0.27</td>\n",
       "      <td>True</td>\n",
       "      <td>False</td>\n",
       "      <td>-5</td>\n",
       "    </tr>\n",
       "    <tr>\n",
       "      <th>2021-08-25</th>\n",
       "      <td>374.80</td>\n",
       "      <td>0.11</td>\n",
       "      <td>222.56</td>\n",
       "      <td>0.35</td>\n",
       "      <td>-0.24</td>\n",
       "      <td>0.44</td>\n",
       "      <td>True</td>\n",
       "      <td>True</td>\n",
       "      <td>-4</td>\n",
       "    </tr>\n",
       "    <tr>\n",
       "      <th>2021-08-26</th>\n",
       "      <td>372.42</td>\n",
       "      <td>-0.63</td>\n",
       "      <td>220.20</td>\n",
       "      <td>-1.06</td>\n",
       "      <td>0.43</td>\n",
       "      <td>0.66</td>\n",
       "      <td>True</td>\n",
       "      <td>True</td>\n",
       "      <td>-3</td>\n",
       "    </tr>\n",
       "    <tr>\n",
       "      <th>2021-08-27</th>\n",
       "      <td></td>\n",
       "      <td></td>\n",
       "      <td></td>\n",
       "      <td></td>\n",
       "      <td></td>\n",
       "      <td></td>\n",
       "      <td></td>\n",
       "      <td></td>\n",
       "      <td>-2</td>\n",
       "    </tr>\n",
       "    <tr>\n",
       "      <th>2021-08-30</th>\n",
       "      <td></td>\n",
       "      <td></td>\n",
       "      <td></td>\n",
       "      <td></td>\n",
       "      <td></td>\n",
       "      <td></td>\n",
       "      <td></td>\n",
       "      <td></td>\n",
       "      <td>-1</td>\n",
       "    </tr>\n",
       "    <tr>\n",
       "      <th>2021-08-31</th>\n",
       "      <td></td>\n",
       "      <td></td>\n",
       "      <td></td>\n",
       "      <td></td>\n",
       "      <td></td>\n",
       "      <td></td>\n",
       "      <td></td>\n",
       "      <td></td>\n",
       "      <td>0</td>\n",
       "    </tr>\n",
       "  </tbody>\n",
       "</table>\n",
       "</div>"
      ],
      "text/plain": [
       "           AdjClose.QQQ Return.QQQ% AdjClose.IWM Return.IWM%  \\\n",
       "2021-08-20       367.73                   215.52               \n",
       "2021-08-23       373.23        1.50       219.62        1.90   \n",
       "2021-08-24       374.37        0.31       221.78        0.98   \n",
       "2021-08-25       374.80        0.11       222.56        0.35   \n",
       "2021-08-26       372.42       -0.63       220.20       -1.06   \n",
       "2021-08-27                                                     \n",
       "2021-08-30                                                     \n",
       "2021-08-31                                                     \n",
       "\n",
       "           Return.{QQQ-IWM}% D(Return.{QQQ-IWM})% IWMStrongerPTD Signal  \\\n",
       "2021-08-20                                                  True  False   \n",
       "2021-08-23             -0.41                               False  False   \n",
       "2021-08-24             -0.68                -0.27           True  False   \n",
       "2021-08-25             -0.24                 0.44           True   True   \n",
       "2021-08-26              0.43                 0.66           True   True   \n",
       "2021-08-27                                                                \n",
       "2021-08-30                                                                \n",
       "2021-08-31                                                                \n",
       "\n",
       "            DaysTillME  \n",
       "2021-08-20          -7  \n",
       "2021-08-23          -6  \n",
       "2021-08-24          -5  \n",
       "2021-08-25          -4  \n",
       "2021-08-26          -3  \n",
       "2021-08-27          -2  \n",
       "2021-08-30          -1  \n",
       "2021-08-31           0  "
      ]
     },
     "execution_count": 7,
     "metadata": {},
     "output_type": "execute_result"
    }
   ],
   "source": [
    "me_signals = infer_me_signals(start_dateid=start_dateid, month_end_dateid=month_end_dateid)\n",
    "me_signals"
   ]
  },
  {
   "cell_type": "code",
   "execution_count": 11,
   "id": "a3487cf0",
   "metadata": {},
   "outputs": [
    {
     "data": {
      "text/markdown": [
       "*RunTime: 2021-08-27 04:44:47.384144+00:00*"
      ],
      "text/plain": [
       "<IPython.core.display.Markdown object>"
      ]
     },
     "metadata": {},
     "output_type": "display_data"
    }
   ],
   "source": [
    "from datetime import datetime\n",
    "import pytz\n",
    "display(Markdown(f'*RunTime: {pytz.utc.localize(datetime.utcnow())}*'))"
   ]
  },
  {
   "cell_type": "code",
   "execution_count": null,
   "id": "87e8d1fa",
   "metadata": {},
   "outputs": [],
   "source": []
  }
 ],
 "metadata": {
  "kernelspec": {
   "display_name": "Python 3",
   "language": "python",
   "name": "python3"
  },
  "language_info": {
   "codemirror_mode": {
    "name": "ipython",
    "version": 3
   },
   "file_extension": ".py",
   "mimetype": "text/x-python",
   "name": "python",
   "nbconvert_exporter": "python",
   "pygments_lexer": "ipython3",
   "version": "3.8.5"
  }
 },
 "nbformat": 4,
 "nbformat_minor": 5
}
